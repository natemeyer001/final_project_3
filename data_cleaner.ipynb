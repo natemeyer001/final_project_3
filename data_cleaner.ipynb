{
 "cells": [
  {
   "cell_type": "markdown",
   "id": "8fa3d6ea",
   "metadata": {},
   "source": [
    "# Imports and reading data"
   ]
  },
  {
   "cell_type": "code",
   "execution_count": 1,
   "id": "0f69a51b",
   "metadata": {},
   "outputs": [],
   "source": [
    "import pandas as pd\n",
    "import numpy as np\n",
    "from pathlib import Path\n",
    "import matplotlib.pyplot as plt\n",
    "from sklearn.linear_model import LinearRegression\n",
    "\n",
    "# show all columns\n",
    "pd.set_option('display.max_columns', None)"
   ]
  },
  {
   "cell_type": "code",
   "execution_count": 2,
   "id": "c762c318",
   "metadata": {},
   "outputs": [
    {
     "data": {
      "text/html": [
       "<div>\n",
       "<style scoped>\n",
       "    .dataframe tbody tr th:only-of-type {\n",
       "        vertical-align: middle;\n",
       "    }\n",
       "\n",
       "    .dataframe tbody tr th {\n",
       "        vertical-align: top;\n",
       "    }\n",
       "\n",
       "    .dataframe thead th {\n",
       "        text-align: right;\n",
       "    }\n",
       "</style>\n",
       "<table border=\"1\" class=\"dataframe\">\n",
       "  <thead>\n",
       "    <tr style=\"text-align: right;\">\n",
       "      <th></th>\n",
       "      <th>Highest Charting Position</th>\n",
       "      <th>Number of Times Charted</th>\n",
       "      <th>Song Name</th>\n",
       "      <th>Streams</th>\n",
       "      <th>Artist</th>\n",
       "      <th>Artist Followers</th>\n",
       "      <th>Song ID</th>\n",
       "      <th>Genre</th>\n",
       "      <th>Release Date</th>\n",
       "      <th>Popularity</th>\n",
       "      <th>Danceability</th>\n",
       "      <th>Energy</th>\n",
       "      <th>Loudness</th>\n",
       "      <th>Speechiness</th>\n",
       "      <th>Acousticness</th>\n",
       "      <th>Liveness</th>\n",
       "      <th>Tempo</th>\n",
       "      <th>Duration (ms)</th>\n",
       "      <th>Valence</th>\n",
       "      <th>Chord</th>\n",
       "    </tr>\n",
       "  </thead>\n",
       "  <tbody>\n",
       "    <tr>\n",
       "      <th>0</th>\n",
       "      <td>1</td>\n",
       "      <td>8</td>\n",
       "      <td>Beggin'</td>\n",
       "      <td>48,633,449</td>\n",
       "      <td>Måneskin</td>\n",
       "      <td>3377762</td>\n",
       "      <td>3Wrjm47oTz2sjIgck11l5e</td>\n",
       "      <td>['indie rock italiano', 'italian pop']</td>\n",
       "      <td>2017-12-08</td>\n",
       "      <td>100</td>\n",
       "      <td>0.714</td>\n",
       "      <td>0.8</td>\n",
       "      <td>-4.808</td>\n",
       "      <td>0.0504</td>\n",
       "      <td>0.127</td>\n",
       "      <td>0.359</td>\n",
       "      <td>134.002</td>\n",
       "      <td>211560</td>\n",
       "      <td>0.589</td>\n",
       "      <td>B</td>\n",
       "    </tr>\n",
       "    <tr>\n",
       "      <th>1</th>\n",
       "      <td>2</td>\n",
       "      <td>3</td>\n",
       "      <td>STAY (with Justin Bieber)</td>\n",
       "      <td>47,248,719</td>\n",
       "      <td>The Kid LAROI</td>\n",
       "      <td>2230022</td>\n",
       "      <td>5HCyWlXZPP0y6Gqq8TgA20</td>\n",
       "      <td>['australian hip hop']</td>\n",
       "      <td>2021-07-09</td>\n",
       "      <td>99</td>\n",
       "      <td>0.591</td>\n",
       "      <td>0.764</td>\n",
       "      <td>-5.484</td>\n",
       "      <td>0.0483</td>\n",
       "      <td>0.0383</td>\n",
       "      <td>0.103</td>\n",
       "      <td>169.928</td>\n",
       "      <td>141806</td>\n",
       "      <td>0.478</td>\n",
       "      <td>C#/Db</td>\n",
       "    </tr>\n",
       "    <tr>\n",
       "      <th>2</th>\n",
       "      <td>1</td>\n",
       "      <td>11</td>\n",
       "      <td>good 4 u</td>\n",
       "      <td>40,162,559</td>\n",
       "      <td>Olivia Rodrigo</td>\n",
       "      <td>6266514</td>\n",
       "      <td>4ZtFanR9U6ndgddUvNcjcG</td>\n",
       "      <td>['pop']</td>\n",
       "      <td>2021-05-21</td>\n",
       "      <td>99</td>\n",
       "      <td>0.563</td>\n",
       "      <td>0.664</td>\n",
       "      <td>-5.044</td>\n",
       "      <td>0.154</td>\n",
       "      <td>0.335</td>\n",
       "      <td>0.0849</td>\n",
       "      <td>166.928</td>\n",
       "      <td>178147</td>\n",
       "      <td>0.688</td>\n",
       "      <td>A</td>\n",
       "    </tr>\n",
       "  </tbody>\n",
       "</table>\n",
       "</div>"
      ],
      "text/plain": [
       "   Highest Charting Position  Number of Times Charted  \\\n",
       "0                          1                        8   \n",
       "1                          2                        3   \n",
       "2                          1                       11   \n",
       "\n",
       "                   Song Name     Streams          Artist Artist Followers  \\\n",
       "0                    Beggin'  48,633,449        Måneskin          3377762   \n",
       "1  STAY (with Justin Bieber)  47,248,719   The Kid LAROI          2230022   \n",
       "2                   good 4 u  40,162,559  Olivia Rodrigo          6266514   \n",
       "\n",
       "                  Song ID                                   Genre  \\\n",
       "0  3Wrjm47oTz2sjIgck11l5e  ['indie rock italiano', 'italian pop']   \n",
       "1  5HCyWlXZPP0y6Gqq8TgA20                  ['australian hip hop']   \n",
       "2  4ZtFanR9U6ndgddUvNcjcG                                 ['pop']   \n",
       "\n",
       "  Release Date Popularity Danceability Energy Loudness Speechiness  \\\n",
       "0   2017-12-08        100        0.714    0.8   -4.808      0.0504   \n",
       "1   2021-07-09         99        0.591  0.764   -5.484      0.0483   \n",
       "2   2021-05-21         99        0.563  0.664   -5.044       0.154   \n",
       "\n",
       "  Acousticness Liveness    Tempo Duration (ms) Valence  Chord  \n",
       "0        0.127    0.359  134.002        211560   0.589      B  \n",
       "1       0.0383    0.103  169.928        141806   0.478  C#/Db  \n",
       "2        0.335   0.0849  166.928        178147   0.688      A  "
      ]
     },
     "execution_count": 2,
     "metadata": {},
     "output_type": "execute_result"
    }
   ],
   "source": [
    "df = pd.read_csv('spotify_dataset.csv')\n",
    "df.drop([\"Index\",\"Week of Highest Charting\",\"Weeks Charted\"], axis=1, inplace=True)\n",
    "df.head(3)"
   ]
  },
  {
   "cell_type": "markdown",
   "id": "a3a7982e",
   "metadata": {},
   "source": [
    "# Get rid of bad rows"
   ]
  },
  {
   "cell_type": "code",
   "execution_count": 3,
   "id": "dcf54f26",
   "metadata": {},
   "outputs": [
    {
     "data": {
      "text/plain": [
       "Highest Charting Position    1556\n",
       "Number of Times Charted      1556\n",
       "Song Name                    1556\n",
       "Streams                      1556\n",
       "Artist                       1556\n",
       "Artist Followers             1556\n",
       "Song ID                      1556\n",
       "Genre                        1556\n",
       "Release Date                 1556\n",
       "Popularity                   1556\n",
       "Danceability                 1556\n",
       "Energy                       1556\n",
       "Loudness                     1556\n",
       "Speechiness                  1556\n",
       "Acousticness                 1556\n",
       "Liveness                     1556\n",
       "Tempo                        1556\n",
       "Duration (ms)                1556\n",
       "Valence                      1556\n",
       "Chord                        1556\n",
       "dtype: int64"
      ]
     },
     "execution_count": 3,
     "metadata": {},
     "output_type": "execute_result"
    }
   ],
   "source": [
    "# show current counts\n",
    "df.notnull().sum()"
   ]
  },
  {
   "cell_type": "code",
   "execution_count": 4,
   "id": "96c4fd95",
   "metadata": {},
   "outputs": [
    {
     "data": {
      "text/plain": [
       "Highest Charting Position     0\n",
       "Number of Times Charted       0\n",
       "Song Name                     0\n",
       "Streams                       0\n",
       "Artist                        0\n",
       "Artist Followers             11\n",
       "Song ID                      11\n",
       "Genre                        11\n",
       "Release Date                 11\n",
       "Popularity                   11\n",
       "Danceability                 11\n",
       "Energy                       11\n",
       "Loudness                     11\n",
       "Speechiness                  11\n",
       "Acousticness                 11\n",
       "Liveness                     11\n",
       "Tempo                        11\n",
       "Duration (ms)                11\n",
       "Valence                      11\n",
       "Chord                        11\n",
       "dtype: int64"
      ]
     },
     "execution_count": 4,
     "metadata": {},
     "output_type": "execute_result"
    }
   ],
   "source": [
    "# convert blanks to NaN\n",
    "df = df.replace(' ', np.nan)\n",
    "df.isna().sum()"
   ]
  },
  {
   "cell_type": "code",
   "execution_count": 5,
   "id": "1e5bd160",
   "metadata": {},
   "outputs": [
    {
     "data": {
      "text/plain": [
       "Highest Charting Position    1545\n",
       "Number of Times Charted      1545\n",
       "Song Name                    1545\n",
       "Streams                      1545\n",
       "Artist                       1545\n",
       "Artist Followers             1545\n",
       "Song ID                      1545\n",
       "Genre                        1545\n",
       "Release Date                 1545\n",
       "Popularity                   1545\n",
       "Danceability                 1545\n",
       "Energy                       1545\n",
       "Loudness                     1545\n",
       "Speechiness                  1545\n",
       "Acousticness                 1545\n",
       "Liveness                     1545\n",
       "Tempo                        1545\n",
       "Duration (ms)                1545\n",
       "Valence                      1545\n",
       "Chord                        1545\n",
       "dtype: int64"
      ]
     },
     "execution_count": 5,
     "metadata": {},
     "output_type": "execute_result"
    }
   ],
   "source": [
    "# drop NaN and show updated counts\n",
    "df.dropna(inplace=True)\n",
    "df.notnull().sum()"
   ]
  },
  {
   "cell_type": "markdown",
   "id": "e0b69d49",
   "metadata": {},
   "source": [
    "## Check data types"
   ]
  },
  {
   "cell_type": "code",
   "execution_count": 6,
   "id": "1234ac6b",
   "metadata": {},
   "outputs": [
    {
     "data": {
      "text/plain": [
       "Highest Charting Position     int64\n",
       "Number of Times Charted       int64\n",
       "Song Name                    object\n",
       "Streams                      object\n",
       "Artist                       object\n",
       "Artist Followers             object\n",
       "Song ID                      object\n",
       "Genre                        object\n",
       "Release Date                 object\n",
       "Popularity                   object\n",
       "Danceability                 object\n",
       "Energy                       object\n",
       "Loudness                     object\n",
       "Speechiness                  object\n",
       "Acousticness                 object\n",
       "Liveness                     object\n",
       "Tempo                        object\n",
       "Duration (ms)                object\n",
       "Valence                      object\n",
       "Chord                        object\n",
       "dtype: object"
      ]
     },
     "execution_count": 6,
     "metadata": {},
     "output_type": "execute_result"
    }
   ],
   "source": [
    "df.dtypes"
   ]
  },
  {
   "cell_type": "code",
   "execution_count": 7,
   "id": "df7583da",
   "metadata": {},
   "outputs": [],
   "source": [
    "# convert object to string and then replace comma with empty space\n",
    "df[\"Streams\"] = df[\"Streams\"].str.replace(',', \"\")"
   ]
  },
  {
   "cell_type": "code",
   "execution_count": 8,
   "id": "0233aeea",
   "metadata": {},
   "outputs": [
    {
     "data": {
      "text/plain": [
       "Highest Charting Position             int64\n",
       "Number of Times Charted               int64\n",
       "Song Name                            object\n",
       "Streams                               int64\n",
       "Artist                               object\n",
       "Artist Followers                      int64\n",
       "Song ID                              object\n",
       "Genre                                object\n",
       "Release Date                 datetime64[ns]\n",
       "Popularity                            int64\n",
       "Danceability                        float64\n",
       "Energy                              float64\n",
       "Loudness                            float64\n",
       "Speechiness                         float64\n",
       "Acousticness                        float64\n",
       "Liveness                            float64\n",
       "Tempo                               float64\n",
       "Duration (ms)                         int64\n",
       "Valence                             float64\n",
       "Chord                                object\n",
       "dtype: object"
      ]
     },
     "execution_count": 8,
     "metadata": {},
     "output_type": "execute_result"
    }
   ],
   "source": [
    "## Change all columns\n",
    "cols_to_change = [\"Streams\", \"Artist Followers\", \"Popularity\", \"Danceability\", \n",
    "                  \"Energy\", \"Loudness\", \"Speechiness\", \"Acousticness\", \"Liveness\",\n",
    "                  \"Tempo\", \"Duration (ms)\", \"Valence\"] \n",
    "for i in range(len(cols_to_change)):\n",
    "    df[cols_to_change[i]] = pd.to_numeric(df[cols_to_change[i]])\n",
    "\n",
    "df[\"Release Date\"] = pd.to_datetime(df[\"Release Date\"])\n",
    "df.dtypes"
   ]
  },
  {
   "cell_type": "code",
   "execution_count": 9,
   "id": "11c1d5fb",
   "metadata": {},
   "outputs": [
    {
     "data": {
      "text/html": [
       "<div>\n",
       "<style scoped>\n",
       "    .dataframe tbody tr th:only-of-type {\n",
       "        vertical-align: middle;\n",
       "    }\n",
       "\n",
       "    .dataframe tbody tr th {\n",
       "        vertical-align: top;\n",
       "    }\n",
       "\n",
       "    .dataframe thead th {\n",
       "        text-align: right;\n",
       "    }\n",
       "</style>\n",
       "<table border=\"1\" class=\"dataframe\">\n",
       "  <thead>\n",
       "    <tr style=\"text-align: right;\">\n",
       "      <th></th>\n",
       "      <th>Highest Charting Position</th>\n",
       "      <th>Number of Times Charted</th>\n",
       "      <th>Song Name</th>\n",
       "      <th>Streams</th>\n",
       "      <th>Artist</th>\n",
       "      <th>Artist Followers</th>\n",
       "      <th>Song ID</th>\n",
       "      <th>Genre</th>\n",
       "      <th>Release Date</th>\n",
       "      <th>Popularity</th>\n",
       "      <th>Danceability</th>\n",
       "      <th>Energy</th>\n",
       "      <th>Loudness</th>\n",
       "      <th>Speechiness</th>\n",
       "      <th>Acousticness</th>\n",
       "      <th>Liveness</th>\n",
       "      <th>Tempo</th>\n",
       "      <th>Duration (ms)</th>\n",
       "      <th>Valence</th>\n",
       "      <th>Chord</th>\n",
       "    </tr>\n",
       "  </thead>\n",
       "  <tbody>\n",
       "    <tr>\n",
       "      <th>0</th>\n",
       "      <td>1</td>\n",
       "      <td>8</td>\n",
       "      <td>Beggin'</td>\n",
       "      <td>48633449</td>\n",
       "      <td>Måneskin</td>\n",
       "      <td>3377762</td>\n",
       "      <td>3Wrjm47oTz2sjIgck11l5e</td>\n",
       "      <td>['indie rock italiano', 'italian pop']</td>\n",
       "      <td>2017-12-08</td>\n",
       "      <td>100</td>\n",
       "      <td>0.714</td>\n",
       "      <td>0.800</td>\n",
       "      <td>-4.808</td>\n",
       "      <td>0.0504</td>\n",
       "      <td>0.1270</td>\n",
       "      <td>0.3590</td>\n",
       "      <td>134.002</td>\n",
       "      <td>211560</td>\n",
       "      <td>0.589</td>\n",
       "      <td>B</td>\n",
       "    </tr>\n",
       "    <tr>\n",
       "      <th>1</th>\n",
       "      <td>2</td>\n",
       "      <td>3</td>\n",
       "      <td>STAY (with Justin Bieber)</td>\n",
       "      <td>47248719</td>\n",
       "      <td>The Kid LAROI</td>\n",
       "      <td>2230022</td>\n",
       "      <td>5HCyWlXZPP0y6Gqq8TgA20</td>\n",
       "      <td>['australian hip hop']</td>\n",
       "      <td>2021-07-09</td>\n",
       "      <td>99</td>\n",
       "      <td>0.591</td>\n",
       "      <td>0.764</td>\n",
       "      <td>-5.484</td>\n",
       "      <td>0.0483</td>\n",
       "      <td>0.0383</td>\n",
       "      <td>0.1030</td>\n",
       "      <td>169.928</td>\n",
       "      <td>141806</td>\n",
       "      <td>0.478</td>\n",
       "      <td>C#/Db</td>\n",
       "    </tr>\n",
       "    <tr>\n",
       "      <th>2</th>\n",
       "      <td>1</td>\n",
       "      <td>11</td>\n",
       "      <td>good 4 u</td>\n",
       "      <td>40162559</td>\n",
       "      <td>Olivia Rodrigo</td>\n",
       "      <td>6266514</td>\n",
       "      <td>4ZtFanR9U6ndgddUvNcjcG</td>\n",
       "      <td>['pop']</td>\n",
       "      <td>2021-05-21</td>\n",
       "      <td>99</td>\n",
       "      <td>0.563</td>\n",
       "      <td>0.664</td>\n",
       "      <td>-5.044</td>\n",
       "      <td>0.1540</td>\n",
       "      <td>0.3350</td>\n",
       "      <td>0.0849</td>\n",
       "      <td>166.928</td>\n",
       "      <td>178147</td>\n",
       "      <td>0.688</td>\n",
       "      <td>A</td>\n",
       "    </tr>\n",
       "  </tbody>\n",
       "</table>\n",
       "</div>"
      ],
      "text/plain": [
       "   Highest Charting Position  Number of Times Charted  \\\n",
       "0                          1                        8   \n",
       "1                          2                        3   \n",
       "2                          1                       11   \n",
       "\n",
       "                   Song Name   Streams          Artist  Artist Followers  \\\n",
       "0                    Beggin'  48633449        Måneskin           3377762   \n",
       "1  STAY (with Justin Bieber)  47248719   The Kid LAROI           2230022   \n",
       "2                   good 4 u  40162559  Olivia Rodrigo           6266514   \n",
       "\n",
       "                  Song ID                                   Genre  \\\n",
       "0  3Wrjm47oTz2sjIgck11l5e  ['indie rock italiano', 'italian pop']   \n",
       "1  5HCyWlXZPP0y6Gqq8TgA20                  ['australian hip hop']   \n",
       "2  4ZtFanR9U6ndgddUvNcjcG                                 ['pop']   \n",
       "\n",
       "  Release Date  Popularity  Danceability  Energy  Loudness  Speechiness  \\\n",
       "0   2017-12-08         100         0.714   0.800    -4.808       0.0504   \n",
       "1   2021-07-09          99         0.591   0.764    -5.484       0.0483   \n",
       "2   2021-05-21          99         0.563   0.664    -5.044       0.1540   \n",
       "\n",
       "   Acousticness  Liveness    Tempo  Duration (ms)  Valence  Chord  \n",
       "0        0.1270    0.3590  134.002         211560    0.589      B  \n",
       "1        0.0383    0.1030  169.928         141806    0.478  C#/Db  \n",
       "2        0.3350    0.0849  166.928         178147    0.688      A  "
      ]
     },
     "execution_count": 9,
     "metadata": {},
     "output_type": "execute_result"
    }
   ],
   "source": [
    "df.head(3)"
   ]
  },
  {
   "cell_type": "markdown",
   "id": "f1d3f61a",
   "metadata": {},
   "source": [
    "# Split Chord by \"/\" and only keep split[0]?"
   ]
  },
  {
   "cell_type": "code",
   "execution_count": null,
   "id": "5c40edf2",
   "metadata": {},
   "outputs": [],
   "source": []
  }
 ],
 "metadata": {
  "kernelspec": {
   "display_name": "mlenv",
   "language": "python",
   "name": "mlenv"
  },
  "language_info": {
   "codemirror_mode": {
    "name": "ipython",
    "version": 3
   },
   "file_extension": ".py",
   "mimetype": "text/x-python",
   "name": "python",
   "nbconvert_exporter": "python",
   "pygments_lexer": "ipython3",
   "version": "3.7.10"
  }
 },
 "nbformat": 4,
 "nbformat_minor": 5
}
